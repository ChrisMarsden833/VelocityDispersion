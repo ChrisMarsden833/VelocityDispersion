{
 "cells": [
  {
   "cell_type": "markdown",
   "metadata": {},
   "source": [
    "## Velocity Dispersion Testing"
   ]
  },
  {
   "cell_type": "code",
   "execution_count": 1,
   "metadata": {
    "collapsed": true
   },
   "outputs": [],
   "source": [
    "import ctypes\n",
    "import time\n",
    "import scipy.special as sp\n",
    "from matplotlib import pyplot as plt\n",
    "import numpy as np\n",
    "\n",
    "ibc = ctypes.CDLL(\"../cmake-build-debug/lib/libfoo.so\")"
   ]
  },
  {
   "cell_type": "markdown",
   "metadata": {},
   "source": [
    "### p_n"
   ]
  },
  {
   "cell_type": "code",
   "execution_count": 2,
   "metadata": {
    "collapsed": true
   },
   "outputs": [],
   "source": [
    "sersic_index = np.linspace(1, 6, 200)\n",
    "res_store_c = np.zeros_like(sersic_index)\n",
    "res_store_py = np.zeros_like(sersic_index)"
   ]
  },
  {
   "cell_type": "code",
   "execution_count": 3,
   "metadata": {},
   "outputs": [
    {
     "name": "stdout",
     "output_type": "stream",
     "text": [
      "Time: 0.000756000000000423 seconds\n"
     ]
    }
   ],
   "source": [
    "ibc.p_nex.argtypes = [ctypes.c_float]\n",
    "ibc.p_nex.restype = ctypes.c_float \n",
    "\n",
    "start = time.process_time()\n",
    "\n",
    "for i, n in enumerate(sersic_index):\n",
    "    res_store_c[i] = ibc.p_nex(float(n))\n",
    "\n",
    "print(\"Time: {} seconds\".format(time.process_time() - start))"
   ]
  },
  {
   "cell_type": "code",
   "execution_count": 4,
   "metadata": {},
   "outputs": [
    {
     "name": "stdout",
     "output_type": "stream",
     "text": [
      "Time: 0.0007760000000001099 seconds\n"
     ]
    }
   ],
   "source": [
    "def p_n_func(n):\n",
    "    return 1 - (0.6097/n) + (0.00563/(n**2))\n",
    "\n",
    "start = time.process_time()\n",
    "\n",
    "for i, n in enumerate(sersic_index):\n",
    "    res_store_py[i] = p_n_func(n)\n",
    "    \n",
    "print(\"Time: {} seconds\".format(time.process_time() - start))\n"
   ]
  },
  {
   "cell_type": "code",
   "execution_count": 5,
   "metadata": {},
   "outputs": [
    {
     "data": {
      "image/png": "[encoded data removed]",
      "text/plain": [
       "<matplotlib.figure.Figure at 0x1519f6f278>"
      ]
     },
     "metadata": {},
     "output_type": "display_data"
    }
   ],
   "source": [
    "plt.figure()\n",
    "plt.plot(sersic_index, res_store_c)\n",
    "plt.plot(sersic_index, res_store_py, 'x')\n",
    "plt.xlabel(\"Sersic Index\")\n",
    "plt.ylabel(\"result\")\n",
    "plt.show()"
   ]
  },
  {
   "cell_type": "markdown",
   "metadata": {},
   "source": [
    "### p_0"
   ]
  },
  {
   "cell_type": "code",
   "execution_count": 6,
   "metadata": {
    "collapsed": true
   },
   "outputs": [],
   "source": [
    "R = 10.\n",
    "r_range = np.linspace(R, 100, 200)\n",
    "HLR = 30.\n",
    "beta = 0.1\n",
    "SersicIndex = 2.\n",
    "stellar_mass = 10**7\n",
    "halo_mass = 10**8\n",
    "halo_size = 2 * HLR\n",
    "\n",
    "store = np.zeros_like(r_range)"
   ]
  },
  {
   "cell_type": "code",
   "execution_count": 7,
   "metadata": {},
   "outputs": [],
   "source": [
    "ibc.innards.argtypes = [ctypes.c_float, \n",
    "                        ctypes.c_float, \n",
    "                        ctypes.c_float,\n",
    "                        ctypes.c_float,\n",
    "                        ctypes.c_float,\n",
    "                        ctypes.c_float,\n",
    "                        ctypes.c_float,\n",
    "                        ctypes.c_float]\n",
    "\n",
    "ibc.innards.restype = ctypes.c_float "
   ]
  },
  {
   "cell_type": "code",
   "execution_count": 8,
   "metadata": {},
   "outputs": [],
   "source": [
    "for i, value in enumerate(r_range):\n",
    "    store[i] = ibc.innards(value, R, beta, HLR, SersicIndex, stellar_mass, halo_mass, halo_size)"
   ]
  },
  {
   "cell_type": "code",
   "execution_count": 9,
   "metadata": {},
   "outputs": [
    {
     "data": {
      "image/png": "[encoded data removed]",
      "text/plain": [
       "<matplotlib.figure.Figure at 0x1519f6f128>"
      ]
     },
     "metadata": {},
     "output_type": "display_data"
    },
    {
     "data": {
      "text/plain": [
       "array([4.40816896e+08, 4.16345824e+08, 3.94003200e+08, 3.73532480e+08,\n",
       "       3.54716384e+08, 3.37369568e+08, 3.21333440e+08, 3.06471040e+08,\n",
       "       2.92663744e+08, 2.79808224e+08, 2.67814032e+08, 2.56601696e+08,\n",
       "       2.46101184e+08, 2.36250304e+08, 2.26994080e+08, 2.18283152e+08,\n",
       "       2.10073616e+08, 2.02326000e+08, 1.95004848e+08, 1.88078080e+08,\n",
       "       1.81516736e+08, 1.75294656e+08, 1.69387936e+08, 1.63774912e+08,\n",
       "       1.58435760e+08, 1.53352384e+08, 1.48508160e+08, 1.43887936e+08,\n",
       "       1.39477792e+08, 1.35264720e+08, 1.31236896e+08, 1.27383424e+08,\n",
       "       1.23694088e+08, 1.20159520e+08, 1.16771040e+08, 1.13520544e+08,\n",
       "       1.10400488e+08, 1.07403904e+08, 1.04524256e+08, 1.01755440e+08,\n",
       "       9.90917760e+07, 9.65279680e+07, 9.40590080e+07, 9.16802160e+07,\n",
       "       8.93872560e+07, 8.71759920e+07, 8.50425920e+07, 8.29833840e+07,\n",
       "       8.09949840e+07, 7.90741600e+07, 7.72178800e+07, 7.54232800e+07,\n",
       "       7.36876400e+07, 7.20084320e+07, 7.03832160e+07, 6.88097280e+07,\n",
       "       6.72857600e+07, 6.58093200e+07, 6.43784400e+07, 6.29912400e+07,\n",
       "       6.16460240e+07, 6.03410880e+07, 5.90748680e+07, 5.78458600e+07,\n",
       "       5.66526320e+07, 5.54938120e+07, 5.43681160e+07, 5.32743040e+07,\n",
       "       5.22111840e+07, 5.11776520e+07, 5.01726320e+07, 4.91950920e+07,\n",
       "       4.82440600e+07, 4.73185720e+07, 4.64177800e+07, 4.55408000e+07,\n",
       "       4.46868200e+07, 4.38550640e+07, 4.30447640e+07, 4.22552160e+07,\n",
       "       4.14857240e+07, 4.07356200e+07, 4.00043000e+07, 3.92911280e+07,\n",
       "       3.85955280e+07, 3.79169360e+07, 3.72548200e+07, 3.66086600e+07,\n",
       "       3.59779640e+07, 3.53622560e+07, 3.47610560e+07, 3.41739480e+07,\n",
       "       3.36004880e+07, 3.30402720e+07, 3.24929160e+07, 3.19580240e+07,\n",
       "       3.14352400e+07, 3.09242080e+07, 3.04245780e+07, 2.99360440e+07,\n",
       "       2.94582720e+07, 2.89909720e+07, 2.85338320e+07, 2.80865740e+07,\n",
       "       2.76489260e+07, 2.72206240e+07, 2.68014080e+07, 2.63910340e+07,\n",
       "       2.59892640e+07, 2.55958580e+07, 2.52106000e+07, 2.48332740e+07,\n",
       "       2.44636700e+07, 2.41015780e+07, 2.37468060e+07, 2.33991740e+07,\n",
       "       2.30584920e+07, 2.27245760e+07, 2.23972700e+07, 2.20763880e+07,\n",
       "       2.17617740e+07, 2.14532780e+07, 2.11507440e+07, 2.08540240e+07,\n",
       "       2.05629840e+07, 2.02774680e+07, 1.99973500e+07, 1.97225060e+07,\n",
       "       1.94528040e+07, 1.91881200e+07, 1.89283340e+07, 1.86733380e+07,\n",
       "       1.84230080e+07, 1.81772420e+07, 1.79359440e+07, 1.76989900e+07,\n",
       "       1.74662940e+07, 1.72377540e+07, 1.70132720e+07, 1.67927640e+07,\n",
       "       1.65761380e+07, 1.63633010e+07, 1.61541730e+07, 1.59486760e+07,\n",
       "       1.57467280e+07, 1.55482420e+07, 1.53531530e+07, 1.51613860e+07,\n",
       "       1.49728610e+07, 1.47875230e+07, 1.46052860e+07, 1.44260930e+07,\n",
       "       1.42498810e+07, 1.40765870e+07, 1.39061430e+07, 1.37384970e+07,\n",
       "       1.35735880e+07, 1.34113550e+07, 1.32517510e+07, 1.30947170e+07,\n",
       "       1.29402000e+07, 1.27881510e+07, 1.26385180e+07, 1.24912540e+07,\n",
       "       1.23463100e+07, 1.22036410e+07, 1.20631990e+07, 1.19249430e+07,\n",
       "       1.17888330e+07, 1.16548180e+07, 1.15228620e+07, 1.13929270e+07,\n",
       "       1.12649710e+07, 1.11389580e+07, 1.10148480e+07, 1.08926030e+07,\n",
       "       1.07721900e+07, 1.06535760e+07, 1.05367270e+07, 1.04216050e+07,\n",
       "       1.03081820e+07, 1.01964250e+07, 1.00863020e+07, 9.97778600e+06,\n",
       "       9.87084500e+06, 9.76544800e+06, 9.66157100e+06, 9.55918400e+06,\n",
       "       9.45825800e+06, 9.35877100e+06, 9.26069500e+06, 9.16400300e+06,\n",
       "       9.06867500e+06, 8.97468100e+06, 8.88200000e+06, 8.79060900e+06,\n",
       "       8.70048600e+06, 8.61160900e+06, 8.52395500e+06, 8.43750200e+06])"
      ]
     },
     "execution_count": 9,
     "metadata": {},
     "output_type": "execute_result"
    }
   ],
   "source": [
    "plt.figure()\n",
    "plt.plot(r_range, store)\n",
    "plt.show()\n",
    "\n",
    "store"
   ]
  },
  {
   "cell_type": "code",
   "execution_count": null,
   "metadata": {
    "collapsed": true
   },
   "outputs": [],
   "source": []
  }
 ],
 "metadata": {
  "kernelspec": {
   "display_name": "Python 3",
   "language": "python",
   "name": "python3"
  },
  "language_info": {
   "codemirror_mode": {
    "name": "ipython",
    "version": 3
   },
   "file_extension": ".py",
   "mimetype": "text/x-python",
   "name": "python",
   "nbconvert_exporter": "python",
   "pygments_lexer": "ipython3",
   "version": "3.6.9"
  }
 },
 "nbformat": 4,
 "nbformat_minor": 2
}
