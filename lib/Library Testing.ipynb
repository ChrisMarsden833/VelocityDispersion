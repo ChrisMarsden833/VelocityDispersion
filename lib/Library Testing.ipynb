{
 "cells": [
  {
   "cell_type": "markdown",
   "metadata": {},
   "source": [
    "## Velocity Dispersion Testing"
   ]
  },
  {
   "cell_type": "code",
   "execution_count": 1,
   "metadata": {
    "collapsed": true
   },
   "outputs": [],
   "source": [
    "import ctypes\n",
    "import time\n",
    "import scipy.special as sp\n",
    "from matplotlib import pyplot as plt\n",
    "import numpy as np\n",
    "from colossus.cosmology import cosmology\n",
    "\n",
    "cosmo = cosmology.setCosmology('planck18')\n",
    "\n",
    "ibc = ctypes.CDLL(\"../cmake-build-debug/lib/libfoo.so\")"
   ]
  },
  {
   "cell_type": "markdown",
   "metadata": {},
   "source": [
    "### p_n"
   ]
  },
  {
   "cell_type": "code",
   "execution_count": 2,
   "metadata": {
    "collapsed": true
   },
   "outputs": [],
   "source": [
    "sersic_index = np.linspace(1, 6, 200)\n",
    "res_store_c = np.zeros_like(sersic_index)\n",
    "res_store_py = np.zeros_like(sersic_index)"
   ]
  },
  {
   "cell_type": "code",
   "execution_count": 3,
   "metadata": {},
   "outputs": [
    {
     "name": "stdout",
     "output_type": "stream",
     "text": [
      "Time: 0.0027300000000001212 seconds\n"
     ]
    }
   ],
   "source": [
    "ibc.p_nex.argtypes = [ctypes.c_float]\n",
    "ibc.p_nex.restype = ctypes.c_float \n",
    "\n",
    "start = time.process_time()\n",
    "\n",
    "for i, n in enumerate(sersic_index):\n",
    "    res_store_c[i] = ibc.p_nex(float(n))\n",
    "\n",
    "print(\"Time: {} seconds\".format(time.process_time() - start))"
   ]
  },
  {
   "cell_type": "code",
   "execution_count": 4,
   "metadata": {},
   "outputs": [
    {
     "name": "stdout",
     "output_type": "stream",
     "text": [
      "Time: 0.0007380000000001274 seconds\n"
     ]
    }
   ],
   "source": [
    "def p_n_func(n):\n",
    "    return 1 - (0.6097/n) + (0.00563/(n**2))\n",
    "\n",
    "start = time.process_time()\n",
    "\n",
    "for i, n in enumerate(sersic_index):\n",
    "    res_store_py[i] = p_n_func(n)\n",
    "    \n",
    "print(\"Time: {} seconds\".format(time.process_time() - start))\n"
   ]
  },
  {
   "cell_type": "code",
   "execution_count": 5,
   "metadata": {},
   "outputs": [
    {
     "data": {
      "image/png": "[encoded data removed]",
      "text/plain": [
       "<matplotlib.figure.Figure at 0x107046c50>"
      ]
     },
     "metadata": {},
     "output_type": "display_data"
    }
   ],
   "source": [
    "plt.figure()\n",
    "plt.plot(sersic_index, res_store_c)\n",
    "plt.plot(sersic_index, res_store_py, 'x')\n",
    "plt.xlabel(\"Sersic Index\")\n",
    "plt.ylabel(\"result\")\n",
    "plt.show()"
   ]
  },
  {
   "cell_type": "markdown",
   "metadata": {},
   "source": [
    "### testing de-projected density $\\rho(r)$"
   ]
  },
  {
   "cell_type": "code",
   "execution_count": 6,
   "metadata": {},
   "outputs": [],
   "source": [
    "R = 0.001\n",
    "r_range, spacing = np.linspace(R, 1000, 1000, retstep = True)\n",
    "HLR = 30.\n",
    "beta = 0.1\n",
    "SersicIndex = 2.\n",
    "stellar_mass = 10**7\n",
    "halo_rs = HLR\n",
    "halo_c = 40\n",
    "omega_m = cosmo.Om0\n",
    "H = cosmo.H0\n",
    "\n",
    "store = np.zeros_like(r_range)"
   ]
  },
  {
   "cell_type": "code",
   "execution_count": 7,
   "metadata": {
    "collapsed": true
   },
   "outputs": [],
   "source": [
    "ibc.density.argtypes = [ctypes.c_float, \n",
    "                        ctypes.c_float, \n",
    "                        ctypes.c_float,\n",
    "                        ctypes.c_float,\n",
    "                        ctypes.c_float,\n",
    "                        ctypes.c_float,\n",
    "                        ctypes.c_float,\n",
    "                        ctypes.c_float,\n",
    "                        ctypes.c_float,\n",
    "                        ctypes.c_float]\n",
    "\n",
    "ibc.density.restype = ctypes.c_float \n"
   ]
  },
  {
   "cell_type": "code",
   "execution_count": 8,
   "metadata": {},
   "outputs": [],
   "source": [
    "for i, value in enumerate(r_range):\n",
    "    store[i] = ibc.density(value, R, beta, HLR, SersicIndex, stellar_mass, halo_rs, halo_c, omega_m, H)"
   ]
  },
  {
   "cell_type": "code",
   "execution_count": 9,
   "metadata": {},
   "outputs": [
    {
     "data": {
      "image/png": "[encoded data removed]",
      "text/plain": [
       "<matplotlib.figure.Figure at 0x181177b6a0>"
      ]
     },
     "metadata": {},
     "output_type": "display_data"
    }
   ],
   "source": [
    "plt.figure()\n",
    "plt.plot(np.log10(r_range), np.log10(store) )\n",
    "plt.xlabel(r\"r ($log_{10}$ $kpc$)\")\n",
    "plt.ylabel(r\"$\\rho (r)$ ($log_{10}$ $M_\\odot$ $kpc^{-3}$)\")\n",
    "plt.show()"
   ]
  },
  {
   "cell_type": "code",
   "execution_count": 10,
   "metadata": {
    "collapsed": true
   },
   "outputs": [],
   "source": [
    "ibc.total_mass.argtypes = [ctypes.c_float, \n",
    "                            ctypes.c_float, \n",
    "                            ctypes.c_float,\n",
    "                            ctypes.c_float,\n",
    "                            ctypes.c_float,\n",
    "                            ctypes.c_float,\n",
    "                            ctypes.c_float,\n",
    "                            ctypes.c_float]\n",
    "\n",
    "ibc.total_mass.restype = ctypes.c_float "
   ]
  },
  {
   "cell_type": "code",
   "execution_count": 11,
   "metadata": {
    "scrolled": false
   },
   "outputs": [
    {
     "name": "stderr",
     "output_type": "stream",
     "text": [
      "/Users/christophermarsden/anaconda3/lib/python3.6/site-packages/ipykernel_launcher.py:10: RuntimeWarning: divide by zero encountered in log10\n",
      "  # Remove the CWD from sys.path while we load stuff.\n"
     ]
    },
    {
     "data": {
      "image/png": "[encoded data removed]",
      "text/plain": [
       "<matplotlib.figure.Figure at 0x18137e6ac8>"
      ]
     },
     "metadata": {},
     "output_type": "display_data"
    }
   ],
   "source": [
    "Integral_store = np.zeros_like(r_range)\n",
    "C_integral_store = np.zeros_like(r_range)\n",
    "\n",
    "for i, value in enumerate(r_range):\n",
    "    Integral_store[i] = np.sum(store[:i] * 4 * np.pi *(r_range[:i]**2) * spacing)\n",
    "    C_integral_store[i] = ibc.total_mass(value, HLR, SersicIndex, stellar_mass, halo_rs, halo_c, omega_m, H)\n",
    "\n",
    "\n",
    "plt.figure()\n",
    "plt.plot(np.log10(r_range),  np.log10(Integral_store), 'x', label = 'Crude pythonic integration')\n",
    "plt.plot(np.log10(r_range), np.log10(C_integral_store), label = 'Iterative Richardson Extrapolation')\n",
    "plt.xlabel(r\"r ($log_{10}$ $kpc$)\")\n",
    "plt.ylabel(r\"$M(r)$ ($log_{10}$ $M_\\odot$)\")\n",
    "plt.legend()\n",
    "plt.show()"
   ]
  },
  {
   "cell_type": "markdown",
   "metadata": {},
   "source": [
    "### K_Kernel"
   ]
  },
  {
   "cell_type": "code",
   "execution_count": 12,
   "metadata": {},
   "outputs": [],
   "source": [
    "ibc.K_Kernel.argtypes = [ctypes.c_float, ctypes.c_float]\n",
    "ibc.K_Kernel.restype = ctypes.c_float "
   ]
  },
  {
   "cell_type": "code",
   "execution_count": 13,
   "metadata": {
    "collapsed": true
   },
   "outputs": [],
   "source": [
    "def pythonic_K(u, B):\n",
    "    \n",
    "    def better_beta(a, b, z):\n",
    "        if a < 0:\n",
    "            beta = pow(z, a) * pow((1 - z), b) + (a + b) * better_beta(a + 1, b, z);\n",
    "            beta = beta/a\n",
    "            return beta\n",
    "        else:\n",
    "            beta = sp.betainc(a, b, z)\n",
    "            return beta\n",
    "    prefactor = 0.5 * u**(2*B-1)\n",
    "    \n",
    "    term1 = ((3/2) - B) * (np.pi**0.5) * ( (sp.gamma(B - 0.5)) / (sp.gamma(B)) )\n",
    "    term2 = B * (better_beta(B + 0.5, 0.5, 1/(u**2)))\n",
    "    term3 = better_beta(B - 0.5, 0.5, 1/u**2)\n",
    "    \n",
    "    res = prefactor * (term1 + term2 - term3)\n",
    "    return res"
   ]
  },
  {
   "cell_type": "code",
   "execution_count": 14,
   "metadata": {},
   "outputs": [],
   "source": [
    "Beta = 0.1\n",
    "u_range = np.linspace(1, 100, 100)\n",
    "k_store = np.zeros_like(u_range)\n",
    "k_store_py = np.zeros_like(u_range)\n",
    "\n",
    "for i, u in enumerate(u_range):\n",
    "    k_store[i] = ibc.K_Kernel(u, Beta)\n",
    "    k_store_py[i] = pythonic_K(u, Beta)"
   ]
  },
  {
   "cell_type": "code",
   "execution_count": 15,
   "metadata": {},
   "outputs": [
    {
     "data": {
      "image/png": "[encoded data removed]",
      "text/plain": [
       "<matplotlib.figure.Figure at 0x181398d048>"
      ]
     },
     "metadata": {},
     "output_type": "display_data"
    }
   ],
   "source": [
    "plt.figure()\n",
    "plt.plot(u_range, k_store, label = 'C')\n",
    "plt.plot(u_range, k_store_py, 'x', label = 'py')\n",
    "plt.xlabel('u')\n",
    "plt.ylabel('K')\n",
    "plt.title(r\"$\\beta$ = 0.1\")\n",
    "plt.legend()\n",
    "plt.show()"
   ]
  },
  {
   "cell_type": "markdown",
   "metadata": {},
   "source": [
    "## First Integral Internals"
   ]
  },
  {
   "cell_type": "code",
   "execution_count": 16,
   "metadata": {},
   "outputs": [],
   "source": [
    "ibc.first_integral_internals.argtypes = [ctypes.c_float, \n",
    "                                         ctypes.c_float,\n",
    "                                         ctypes.c_float, \n",
    "                                         ctypes.c_float,\n",
    "                                         ctypes.c_float, \n",
    "                                         ctypes.c_float,\n",
    "                                         ctypes.c_float, \n",
    "                                         ctypes.c_float,\n",
    "                                         ctypes.c_float, \n",
    "                                         ctypes.c_float]\n",
    "\n",
    "ibc.first_integral_internals.restype = ctypes.c_float "
   ]
  },
  {
   "cell_type": "code",
   "execution_count": 36,
   "metadata": {},
   "outputs": [
    {
     "data": {
      "text/plain": [
       "array([0.00000000e+00, 6.47849902e+11, 9.03793541e+11, ...,\n",
       "       8.50418534e+09, 8.49085542e+09, 8.47755622e+09])"
      ]
     },
     "execution_count": 36,
     "metadata": {},
     "output_type": "execute_result"
    }
   ],
   "source": [
    "R = 10\n",
    "r_range = np.linspace(R, 100, 2000)\n",
    "res_store = np.zeros_like(r_range)\n",
    "py_res_store = np.zeros_like(r_range)\n",
    "\n",
    "for i, r in enumerate(r_range):\n",
    "    res_store[i] = ibc.first_integral_internals(r, R, Beta, HLR, SersicIndex, stellar_mass, halo_rs, halo_c, omega_m, H)\n",
    "    py_res_store[i] = pythonic_K(r/R, Beta) * \\\n",
    "        ibc.density(r, R, beta, HLR, SersicIndex, stellar_mass, halo_rs, halo_c, omega_m, H) *\\\n",
    "        ibc.total_mass(r, HLR, SersicIndex, stellar_mass, halo_rs, halo_c, omega_m, H) / r\n",
    "\n",
    "    \n",
    "res_store"
   ]
  },
  {
   "cell_type": "code",
   "execution_count": 37,
   "metadata": {},
   "outputs": [
    {
     "data": {
      "image/png": "[encoded data removed]",
      "text/plain": [
       "<matplotlib.figure.Figure at 0x18139c3748>"
      ]
     },
     "metadata": {},
     "output_type": "display_data"
    }
   ],
   "source": [
    "plt.figure()\n",
    "plt.plot(r_range, res_store, label = 'c')\n",
    "plt.plot(r_range, py_res_store, label = 'py' )\n",
    "plt.legend()\n",
    "plt.show()"
   ]
  },
  {
   "cell_type": "code",
   "execution_count": null,
   "metadata": {
    "collapsed": true
   },
   "outputs": [],
   "source": []
  }
 ],
 "metadata": {
  "kernelspec": {
   "display_name": "Python 3",
   "language": "python",
   "name": "python3"
  },
  "language_info": {
   "codemirror_mode": {
    "name": "ipython",
    "version": 3
   },
   "file_extension": ".py",
   "mimetype": "text/x-python",
   "name": "python",
   "nbconvert_exporter": "python",
   "pygments_lexer": "ipython3",
   "version": "3.6.9"
  }
 },
 "nbformat": 4,
 "nbformat_minor": 2
}
