{
 "cells": [
  {
   "cell_type": "code",
   "execution_count": 2,
   "metadata": {},
   "outputs": [],
   "source": [
    "import numpy as np\n",
    "from matplotlib import pyplot as plt\n",
    "import pandas as pd\n",
    "import ctypes\n",
    "from colossus.cosmology import cosmology\n",
    "from scipy import interpolate\n",
    "from scipy.interpolate import griddata\n",
    "\n",
    "cosmo = cosmology.setCosmology('planck18')\n",
    "omega_m = cosmo.Om0\n",
    "H = cosmo.H0\n",
    "ibc = ctypes.CDLL(\"../cmake-build-debug/lib/libfoo.so\")"
   ]
  },
  {
   "cell_type": "code",
   "execution_count": 3,
   "metadata": {},
   "outputs": [
    {
     "data": {
      "text/plain": [
       "1888380184"
      ]
     },
     "execution_count": 3,
     "metadata": {},
     "output_type": "execute_result"
    }
   ],
   "source": [
    "ibc.ArrayTest.argtypes = [ctypes.POINTER(ctypes.c_float), ctypes.c_int32]\n",
    "\n",
    "n = np.array([3., 4., 5.])\n",
    "\n",
    "\n",
    "p = (ctypes.c_float * 3)()\n",
    "\n",
    "for i, n in enumerate(p):\n",
    "    p[i] = float(i)\n",
    "    \n",
    "ibc.ArrayTest(p, len(p))\n",
    "\n",
    "\n"
   ]
  },
  {
   "cell_type": "code",
   "execution_count": null,
   "metadata": {
    "collapsed": true
   },
   "outputs": [],
   "source": []
  }
 ],
 "metadata": {
  "kernelspec": {
   "display_name": "Python 3",
   "language": "python",
   "name": "python3"
  },
  "language_info": {
   "codemirror_mode": {
    "name": "ipython",
    "version": 3
   },
   "file_extension": ".py",
   "mimetype": "text/x-python",
   "name": "python",
   "nbconvert_exporter": "python",
   "pygments_lexer": "ipython3",
   "version": "3.7.3"
  }
 },
 "nbformat": 4,
 "nbformat_minor": 2
}
