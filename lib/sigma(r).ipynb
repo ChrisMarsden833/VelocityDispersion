{
 "cells": [
  {
   "cell_type": "code",
   "execution_count": 1,
   "metadata": {},
   "outputs": [],
   "source": [
    "import numpy as np\n",
    "from matplotlib import pyplot as plt\n",
    "import sys\n",
    "\n",
    "sys.path.insert(1, '/mnt/Files/EuclidAGN/')\n",
    "from VelocityDispersionLibrary import FullVelocityDispersion\n",
    "from AGNCatalogToolbox import main as AGN"
   ]
  },
  {
   "cell_type": "code",
   "execution_count": 11,
   "metadata": {},
   "outputs": [
    {
     "name": "stdout",
     "output_type": "stream",
     "text": [
      "Scatter is a thing, valued at 0.11\n",
      "Stellar Mass: 11.229134340781126 solar masses\n",
      "Size: 8.844371226208347 kpc\n"
     ]
    }
   ],
   "source": [
    "##############\n",
    "Halo_mass = 13\n",
    "##############\n",
    "\n",
    "stellar_mass = AGN.halo_mass_to_stellar_mass(Halo_mass, 0.0)\n",
    "print(\"Stellar Mass:\", stellar_mass, \"solar masses\")\n",
    "\n",
    "def sizes_ric_nat(sm):\n",
    "    return (10**-0.314) * ((10*sm)*0.042) * (1 + (10**sm)/(10**10.537))**0.76\n",
    "\n",
    "size = sizes_ric_nat(stellar_mass)\n",
    "\n",
    "print(\"Size:\", size, \"kpc\")\n",
    "\n",
    "n = 4.0"
   ]
  },
  {
   "cell_type": "code",
   "execution_count": null,
   "metadata": {},
   "outputs": [],
   "source": []
  }
 ],
 "metadata": {
  "kernelspec": {
   "display_name": "Python 3",
   "language": "python",
   "name": "python3"
  },
  "language_info": {
   "codemirror_mode": {
    "name": "ipython",
    "version": 3
   },
   "file_extension": ".py",
   "mimetype": "text/x-python",
   "name": "python",
   "nbconvert_exporter": "python",
   "pygments_lexer": "ipython3",
   "version": "3.7.6"
  }
 },
 "nbformat": 4,
 "nbformat_minor": 4
}
