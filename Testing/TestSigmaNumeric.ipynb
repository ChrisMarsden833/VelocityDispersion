{
 "cells": [
  {
   "cell_type": "code",
   "execution_count": 1,
   "metadata": {},
   "outputs": [],
   "source": [
    "# Imports - Generic\n",
    "import numpy as np\n",
    "import pickle\n",
    "import matplotlib.pyplot as plt\n",
    "\n",
    "# Paths\n",
    "import sys\n",
    "sys.path.insert(0, \"/Users/chris/Documents/ProjectSigma/VelocityDispersion/\")\n",
    "sys.path.insert(0, \"/Users/chris/Documents/ProjectSigma/GalaxyTools/\")\n",
    "\n",
    "# Imports - Local\n",
    "from SigmaNumeric2 import *\n",
    "from SigmaLib import Sigma\n",
    "from GenerateParameters import *\n",
    "from SDSSExtractor import *\n",
    "import HM2SM\n",
    "\n",
    "# Imports - Astro\n",
    "from colossus.halo import profile_nfw\n",
    "from colossus.halo import concentration\n",
    "from colossus.cosmology import cosmology\n",
    "\n",
    "# Set cosmology\n",
    "cosmo = cosmology.setCosmology(\"planck18\")"
   ]
  },
  {
   "cell_type": "code",
   "execution_count": 2,
   "metadata": {},
   "outputs": [],
   "source": [
    "# Get obj that contains the matrix functions\n",
    "file = open(\"../SigmaNumeric.pkl\",'rb')\n",
    "SigmaNumeric = pickle.load(file)\n",
    "file.close()"
   ]
  },
  {
   "cell_type": "code",
   "execution_count": 3,
   "metadata": {},
   "outputs": [
    {
     "name": "stdout",
     "output_type": "stream",
     "text": [
      "[ 8.          8.33333333  8.66666667  9.          9.33333333  9.66666667\n",
      " 10.         10.33333333 10.66666667 11.        ]\n",
      "mhalo [10.56633461 10.70782472 10.84850595 10.99109262 11.14102354 11.30490955\n",
      " 11.50164606 11.77407434 12.21189546 12.86405159]\n",
      "n: [1.61910044 1.66050772 1.75609067 1.90461741 2.10687705 2.36405249\n",
      " 2.67594615 3.03889578 3.44340635 3.87177962]\n",
      "c: [11.60772812 11.26908734 10.9346625  10.5979964  10.24649936  9.86533629\n",
      "  9.41228141  8.79992965  7.86069158  6.55902809]\n",
      "re: [1.05428281 1.09158767 1.1334942  1.18426416 1.25322852 1.36061919\n",
      " 1.54935554 1.90713356 2.60447634 3.95867064]\n",
      "Length of arrays:  10\n",
      "Component array [stars, dark_matter, black_hole]  [1, 1, 0]\n",
      "Haloc [11.60772812 11.26908734 10.9346625  10.5979964  10.24649936  9.86533629\n",
      "  9.41228141  8.79992965  7.86069158  6.55902809]\n"
     ]
    }
   ],
   "source": [
    "length = 10\n",
    "mstar = np.linspace(8,  11, length)\n",
    "\n",
    "print(mstar)\n",
    "\n",
    "z = 0\n",
    "\n",
    "#mhalo = 6 * np.ones(length) \n",
    "mhalo = HM2SM.stellar_mass_to_halo_mass(mstar, z, formula=\"Moster\", mdef='200c')\n",
    "\n",
    "print('mhalo', mhalo)\n",
    "\n",
    "re, n, rs, rho = GetDefaultParameters(mstar, z, mhalo)\n",
    "\n",
    "#n[n < 0.5] = 0.5\n",
    "\n",
    "c = concentration.concentration((10**mhalo)*cosmo.h, '200c', z=z, model = 'ishiyama20')\n",
    "\n",
    "print(\"n:\", n)\n",
    "print(\"c:\", c)\n",
    "print(\"re:\", re)\n",
    "\n",
    "#n = 4 *np.ones(length)\n",
    "\n",
    "#re = 4 * np.ones(length)\n",
    "\n",
    "\n",
    "ap_re = 1.0\n",
    "beta = 0.4* np.ones(length)\n",
    "\n",
    "sigma_full = Sigma(ap_re * re,\n",
    "                    Bulge_mass = mstar,\n",
    "                      Bulge_Re = re,\n",
    "                       Bulge_n = n,\n",
    "                    Bulge_Beta= beta,\n",
    "               DarkMatter_type='NFW',\n",
    "                        HaloRs=rs,\n",
    "                      HaloRhos=rho,\n",
    "                         debug=True,\n",
    "                       threads=8,\n",
    "                    library_path = \"../lib/libsigma.so\")\n",
    "\n",
    "sigma_approx = SigmaNumeric.SigmaNumeric(ap_re*re, mstar, re, n, beta, mhalo, z, dm = 'NFW')"
   ]
  },
  {
   "cell_type": "code",
   "execution_count": 4,
   "metadata": {},
   "outputs": [
    {
     "name": "stdout",
     "output_type": "stream",
     "text": [
      "0.25 & $\n",
      "\\begin{array}{c|c}\n",
      "n & \\mathcal{K} \\\\ \n",
      "1.0 & 2.56 \\\\ \n",
      "2.0 & 2.62 \\\\ \n",
      "3.0 & 2.3 \\\\ \n",
      "4.0 & 1.99 \\\\ \n",
      "5.0 & 1.73 \\\\ \n",
      "6.0 & 1.52 \\\\ \n",
      "7.0 & 1.33 \\\\ \n",
      "8.0 & 1.18 \\\\ \n",
      "\\end{array}\n",
      "$ & $\n",
      "\\begin{array}{cccccccccccc}\n",
      " &  &  &  &  &  & c &  &  &  &  & \\\\ \n",
      " &  & 5.0 & 6.0 & 7.0 & 8.0 & 9.0 & 10.0 & 11.0 & 12.0 & 13.0 & 14.0 \\\\ \n",
      " & 1.0 & 2.37 & 2.37 & 2.37 & 2.37 & 2.37 & 2.37 & 2.36 & 2.36 & 2.36 & 2.36\\\\ \n",
      " & 2.0 & 3.57 & 3.56 & 3.55 & 3.55 & 3.55 & 3.55 & 3.54 & 3.54 & 3.54 & 3.54\\\\ \n",
      " & 3.0 & 3.65 & 3.66 & 3.68 & 3.69 & 3.71 & 3.72 & 3.74 & 3.75 & 3.77 & 3.78\\\\ \n",
      " & 4.0 & 3.44 & 3.46 & 3.48 & 3.5 & 3.53 & 3.55 & 3.57 & 3.6 & 3.62 & 3.64\\\\ \n",
      "n & 5.0 & 3.14 & 3.17 & 3.19 & 3.22 & 3.24 & 3.27 & 3.3 & 3.33 & 3.35 & 3.38\\\\ \n",
      " & 6.0 & 2.84 & 2.87 & 2.89 & 2.92 & 2.95 & 2.97 & 3.0 & 3.03 & 3.06 & 3.09\\\\ \n",
      " & 7.0 & 2.56 & 2.58 & 2.61 & 2.63 & 2.66 & 2.69 & 2.72 & 2.74 & 2.77 & 2.8\\\\ \n",
      " & 8.0 & 2.3 & 2.32 & 2.35 & 2.37 & 2.39 & 2.42 & 2.45 & 2.47 & 2.5 & 2.53\\\\ \n",
      "\\end{array}\n",
      "$ & $\n",
      "\\begin{array}{c|c}\n",
      "\\beta & \\mathcal{N} \\\\ \n",
      "-0.2 & 0.23 \\\\ \n",
      "-0.1 & 0.11 \\\\ \n",
      "0.0 & -0.02 \\\\ \n",
      "0.1 & -0.15 \\\\ \n",
      "0.2 & -0.3 \\\\ \n",
      "0.3 & -0.45 \\\\ \n",
      "0.4 & -0.6 \\\\ \n",
      "\\end{array}\n",
      "$ \\\\ \n"
     ]
    }
   ],
   "source": [
    "print('0.25 & $')\n",
    "SigmaNumeric.K_LaTeX_markup()\n",
    "print(\"$ & $\")\n",
    "SigmaNumeric.L_LaTeX_markup()\n",
    "print(\"$ & $\")\n",
    "SigmaNumeric.M_LaTeX_markup()\n",
    "print(\"$ \\\\\\ \")"
   ]
  },
  {
   "cell_type": "code",
   "execution_count": null,
   "metadata": {},
   "outputs": [],
   "source": []
  }
 ],
 "metadata": {
  "kernelspec": {
   "display_name": "Python 3",
   "language": "python",
   "name": "python3"
  },
  "language_info": {
   "codemirror_mode": {
    "name": "ipython",
    "version": 3
   },
   "file_extension": ".py",
   "mimetype": "text/x-python",
   "name": "python",
   "nbconvert_exporter": "python",
   "pygments_lexer": "ipython3",
   "version": "3.8.5"
  }
 },
 "nbformat": 4,
 "nbformat_minor": 4
}
