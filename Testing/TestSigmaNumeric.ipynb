{
 "cells": [
  {
   "cell_type": "code",
   "execution_count": 1,
   "metadata": {},
   "outputs": [],
   "source": [
    "# Imports - Generic\n",
    "import numpy as np\n",
    "import pickle\n",
    "import matplotlib.pyplot as plt\n",
    "\n",
    "# Paths\n",
    "import sys\n",
    "sys.path.insert(0, \"/Users/chris/Documents/ProjectSigma/VelocityDispersion/\")\n",
    "sys.path.insert(0, \"/Users/chris/Documents/ProjectSigma/GalaxyTools/\")\n",
    "\n",
    "# Imports - Local\n",
    "from SigmaNumeric2 import *\n",
    "from SigmaLib import Sigma\n",
    "from GenerateParameters import *\n",
    "from SDSSExtractor import *\n",
    "import HM2SM\n",
    "\n",
    "# Imports - Astro\n",
    "from colossus.halo import profile_nfw\n",
    "from colossus.halo import concentration\n",
    "from colossus.cosmology import cosmology\n",
    "\n",
    "# Set cosmology\n",
    "cosmo = cosmology.setCosmology(\"planck18\")"
   ]
  },
  {
   "cell_type": "code",
   "execution_count": 2,
   "metadata": {},
   "outputs": [],
   "source": [
    "# Get obj that contains the matrix functions\n",
    "file = open(\"../SigmaNumeric.pkl\",'rb')\n",
    "SigmaNumeric = pickle.load(file)\n",
    "file.close()"
   ]
  },
  {
   "cell_type": "code",
   "execution_count": 3,
   "metadata": {},
   "outputs": [
    {
     "name": "stdout",
     "output_type": "stream",
     "text": [
      "[ 8.          8.33333333  8.66666667  9.          9.33333333  9.66666667\n",
      " 10.         10.33333333 10.66666667 11.        ]\n",
      "mhalo [10.56675175 10.70848681 10.84906806 10.99123123 11.14040759 11.30335929\n",
      " 11.49993946 11.7760011  12.2228066  12.86390574]\n",
      "n: [1.61910044 1.66050772 1.75609067 1.90461741 2.10687705 2.36405249\n",
      " 2.67594615 3.03889578 3.44340635 3.87177962]\n",
      "c: [11.6067263  11.26750814 10.93333078 10.59767023 10.24793805  9.86892638\n",
      "  9.4161889   8.7956782   7.83795129  6.55930535]\n",
      "re: [1.05428281 1.09158767 1.1334942  1.18426416 1.25322852 1.36061919\n",
      " 1.54935554 1.90713356 2.60447634 3.95867064]\n",
      "Length of arrays:  10\n",
      "Component array [stars, dark_matter, black_hole]  [1, 1, 0]\n",
      "    Assigning Concentration\n",
      "    Assigning DM parameters\n",
      "    Generating K, L and M\n",
      "        Generating K\n",
      "        Generating L\n",
      "        Generating M\n",
      "    Bringing it all together\n"
     ]
    }
   ],
   "source": [
    "length = 10\n",
    "mstar = np.linspace(8,  11, length)\n",
    "\n",
    "print(mstar)\n",
    "\n",
    "z = 0\n",
    "\n",
    "#mhalo = 6 * np.ones(length) \n",
    "mhalo = HM2SM.stellar_mass_to_halo_mass(mstar, z, formula=\"Moster\", mdef='200c')\n",
    "\n",
    "print('mhalo', mhalo)\n",
    "\n",
    "re, n, rs, rho = GetDefaultParameters(mstar, z, mhalo)\n",
    "\n",
    "#n[n < 0.5] = 0.5\n",
    "\n",
    "c = concentration.concentration((10**mhalo)*cosmo.h, '200c', z=z, model = 'ishiyama20')\n",
    "\n",
    "print(\"n:\", n)\n",
    "print(\"c:\", c)\n",
    "print(\"re:\", re)\n",
    "\n",
    "#n = 4 *np.ones(length)\n",
    "\n",
    "#re = 4 * np.ones(length)\n",
    "\n",
    "\n",
    "ap_re = 1./8\n",
    "beta = 0.49* np.ones(length)\n",
    "\n",
    "sigma_full = Sigma(ap_re * re,\n",
    "                    Bulge_mass = mstar,\n",
    "                      Bulge_Re = re,\n",
    "                       Bulge_n = n,\n",
    "                    Bulge_Beta= beta,\n",
    "               DarkMatter_type='NFW',\n",
    "                        HaloRs=rs,\n",
    "                      HaloRhos=rho,\n",
    "                         debug=True,\n",
    "                       threads=8,\n",
    "                    library_path = \"../lib/libsigma.so\")\n",
    "\n",
    "sigma_approx = SigmaNumeric.SigmaNumeric(mstar, re, n, beta, mhalo, z, dm = 'NFW')"
   ]
  },
  {
   "cell_type": "code",
   "execution_count": 4,
   "metadata": {},
   "outputs": [
    {
     "name": "stdout",
     "output_type": "stream",
     "text": [
      "[0.2        0.66315789 1.12631579 1.58947368 2.05263158 2.51578947\n",
      " 2.97894737 3.44210526 3.90526316 4.36842105 4.83157895 5.29473684\n",
      " 5.75789474 6.22105263 6.68421053 7.14736842 7.61052632 8.07368421\n",
      " 8.53684211 9.        ]\n"
     ]
    }
   ],
   "source": [
    "print(SigmaNumeric.n_domain_Ky)"
   ]
  },
  {
   "cell_type": "code",
   "execution_count": 5,
   "metadata": {},
   "outputs": [
    {
     "data": {
      "image/png": "[encoded data removed]",
      "text/plain": [
       "<Figure size 432x288 with 1 Axes>"
      ]
     },
     "metadata": {
      "needs_background": "light"
     },
     "output_type": "display_data"
    }
   ],
   "source": [
    "plt.figure()\n",
    "plt.plot(mstar, np.log10(sigma_full))\n",
    "plt.plot(mstar, np.log10(sigma_approx), 'o')\n",
    "plt.show()"
   ]
  },
  {
   "cell_type": "code",
   "execution_count": 6,
   "metadata": {},
   "outputs": [
    {
     "name": "stdout",
     "output_type": "stream",
     "text": [
      "0.25 & $\n",
      "\\begin{array}{c|c}\n",
      "n & \\mathcal{K} \\\\ \n",
      "0.2 & 0.73 \\\\ \n",
      "0.6631578947368422 & 2.2 \\\\ \n",
      "1.1263157894736844 & 2.78 \\\\ \n",
      "1.5894736842105264 & 2.89 \\\\ \n",
      "2.0526315789473686 & 2.76 \\\\ \n",
      "2.515789473684211 & 2.56 \\\\ \n",
      "2.978947368421053 & 2.34 \\\\ \n",
      "3.4421052631578952 & 2.14 \\\\ \n",
      "3.9052631578947374 & 1.96 \\\\ \n",
      "4.36842105263158 & 1.8 \\\\ \n",
      "4.831578947368421 & 1.66 \\\\ \n",
      "5.294736842105264 & 1.53 \\\\ \n",
      "5.757894736842106 & 1.42 \\\\ \n",
      "6.2210526315789485 & 1.32 \\\\ \n",
      "6.68421052631579 & 1.23 \\\\ \n",
      "7.147368421052633 & 1.15 \\\\ \n",
      "7.610526315789475 & 1.08 \\\\ \n",
      "8.073684210526316 & 1.01 \\\\ \n",
      "8.536842105263158 & 0.95 \\\\ \n",
      "9.0 & 0.9 \\\\ \n",
      "\\end{array}\n",
      "$ & $\n",
      "\\begin{array}{cccccccccccccccccccccc}\n",
      " &  &  &  &  &  &  &  &  &  &  & c &  &  &  &  &  &  &  &  &  & \\\\ \n",
      " &  & 1.0 & 3.58 & 6.16 & 8.74 & 11.32 & 13.89 & 16.47 & 19.05 & 21.63 & 24.21 & 26.79 & 29.37 & 31.95 & 34.53 & 37.11 & 39.68 & 42.26 & 44.84 & 47.42 & 50.0 \\\\ \n",
      " & 0.2 & 1.01 & 1.06 & 1.09 & 1.12 & 1.15 & 1.17 & 1.19 & 1.21 & 1.23 & 1.25 & 1.26 & 1.27 & 1.29 & 1.3 & 1.31 & 1.32 & 1.33 & 1.33 & 1.34 & 1.35\\\\ \n",
      " & 0.66 & 1.95 & 1.82 & 1.81 & 1.8 & 1.8 & 1.8 & 1.8 & 1.8 & 1.8 & 1.8 & 1.8 & 1.8 & 1.79 & 1.79 & 1.78 & 1.78 & 1.78 & 1.77 & 1.77 & 1.76\\\\ \n",
      " & 1.13 & 2.51 & 2.67 & 2.7 & 2.71 & 2.7 & 2.69 & 2.68 & 2.67 & 2.66 & 2.64 & 2.63 & 2.61 & 2.59 & 2.58 & 2.56 & 2.54 & 2.53 & 2.51 & 2.5 & 2.48\\\\ \n",
      " & 1.59 & 3.58 & 3.59 & 3.59 & 3.59 & 3.58 & 3.57 & 3.56 & 3.54 & 3.52 & 3.51 & 3.48 & 3.46 & 3.44 & 3.42 & 3.39 & 3.37 & 3.34 & 3.32 & 3.29 & 3.27\\\\ \n",
      " & 2.05 & 3.97 & 3.99 & 4.02 & 4.04 & 4.05 & 4.07 & 4.07 & 4.08 & 4.08 & 4.08 & 4.07 & 4.06 & 4.05 & 4.03 & 4.01 & 3.99 & 3.97 & 3.95 & 3.93 & 3.9\\\\ \n",
      " & 2.52 & 4.03 & 4.07 & 4.11 & 4.15 & 4.2 & 4.24 & 4.27 & 4.3 & 4.33 & 4.35 & 4.36 & 4.37 & 4.38 & 4.38 & 4.38 & 4.38 & 4.37 & 4.36 & 4.34 & 4.33\\\\ \n",
      " & 2.98 & 3.92 & 3.97 & 4.02 & 4.08 & 4.14 & 4.2 & 4.26 & 4.31 & 4.36 & 4.41 & 4.44 & 4.48 & 4.5 & 4.52 & 4.54 & 4.55 & 4.56 & 4.56 & 4.56 & 4.56\\\\ \n",
      " & 3.44 & 3.73 & 3.78 & 3.84 & 3.91 & 3.99 & 4.06 & 4.14 & 4.21 & 4.27 & 4.33 & 4.39 & 4.44 & 4.48 & 4.52 & 4.56 & 4.59 & 4.61 & 4.63 & 4.64 & 4.66\\\\ \n",
      " & 3.91 & 3.52 & 3.57 & 3.63 & 3.71 & 3.79 & 3.87 & 3.96 & 4.04 & 4.12 & 4.19 & 4.26 & 4.32 & 4.38 & 4.43 & 4.48 & 4.53 & 4.56 & 4.6 & 4.62 & 4.65\\\\ \n",
      " & 4.37 & 3.29 & 3.35 & 3.41 & 3.49 & 3.58 & 3.67 & 3.75 & 3.84 & 3.93 & 4.01 & 4.09 & 4.16 & 4.23 & 4.29 & 4.35 & 4.41 & 4.46 & 4.5 & 4.54 & 4.57\\\\ \n",
      "n & 4.83 & 3.08 & 3.13 & 3.2 & 3.28 & 3.37 & 3.46 & 3.55 & 3.64 & 3.73 & 3.81 & 3.9 & 3.98 & 4.05 & 4.12 & 4.19 & 4.25 & 4.31 & 4.36 & 4.41 & 4.46\\\\ \n",
      " & 5.29 & 2.88 & 2.93 & 3.0 & 3.08 & 3.16 & 3.25 & 3.34 & 3.43 & 3.53 & 3.61 & 3.7 & 3.79 & 3.87 & 3.94 & 4.01 & 4.08 & 4.15 & 4.21 & 4.26 & 4.31\\\\ \n",
      " & 5.76 & 2.7 & 2.75 & 2.81 & 2.89 & 2.97 & 3.06 & 3.15 & 3.24 & 3.33 & 3.42 & 3.51 & 3.59 & 3.68 & 3.76 & 3.83 & 3.9 & 3.97 & 4.04 & 4.1 & 4.15\\\\ \n",
      " & 6.22 & 2.53 & 2.58 & 2.64 & 2.71 & 2.79 & 2.88 & 2.96 & 3.05 & 3.14 & 3.23 & 3.32 & 3.41 & 3.49 & 3.57 & 3.65 & 3.72 & 3.79 & 3.86 & 3.93 & 3.99\\\\ \n",
      " & 6.68 & 2.38 & 2.42 & 2.48 & 2.55 & 2.62 & 2.71 & 2.79 & 2.88 & 2.97 & 3.06 & 3.14 & 3.23 & 3.31 & 3.39 & 3.47 & 3.55 & 3.62 & 3.69 & 3.75 & 3.82\\\\ \n",
      " & 7.15 & 2.23 & 2.27 & 2.33 & 2.39 & 2.47 & 2.55 & 2.63 & 2.72 & 2.8 & 2.89 & 2.97 & 3.06 & 3.14 & 3.22 & 3.3 & 3.37 & 3.45 & 3.52 & 3.58 & 3.65\\\\ \n",
      " & 7.61 & 2.12 & 2.14 & 2.19 & 2.26 & 2.33 & 2.4 & 2.48 & 2.56 & 2.65 & 2.73 & 2.81 & 2.89 & 2.97 & 3.05 & 3.13 & 3.21 & 3.28 & 3.35 & 3.42 & 3.48\\\\ \n",
      " & 8.07 & 1.98 & 2.01 & 2.06 & 2.12 & 2.19 & 2.27 & 2.34 & 2.42 & 2.5 & 2.58 & 2.66 & 2.74 & 2.82 & 2.9 & 2.97 & 3.05 & 3.12 & 3.19 & 3.26 & 3.32\\\\ \n",
      " & 8.54 & 1.9 & 1.91 & 1.95 & 2.01 & 2.07 & 2.14 & 2.21 & 2.29 & 2.36 & 2.44 & 2.52 & 2.6 & 2.67 & 2.75 & 2.82 & 2.9 & 2.97 & 3.04 & 3.1 & 3.17\\\\ \n",
      " & 9.0 & 1.8 & 1.8 & 1.84 & 1.9 & 1.96 & 2.03 & 2.1 & 2.17 & 2.24 & 2.31 & 2.39 & 2.46 & 2.54 & 2.61 & 2.68 & 2.75 & 2.82 & 2.89 & 2.95 & 3.02\\\\ \n",
      "\\end{array}\n",
      "$ & $\n",
      "\\begin{array}{cccccccccccccccccccccc}\n",
      " &  &  &  &  &  &  &  &  &  &  & eta &  &  &  &  &  &  &  &  &  & \\\\ \n",
      " &  & -0.2 & -0.16 & -0.13 & -0.09 & -0.05 & -0.02 & 0.02 & 0.05 & 0.09 & 0.13 & 0.16 & 0.2 & 0.24 & 0.27 & 0.31 & 0.34 & 0.38 & 0.42 & 0.45 & 0.49 \\\\ \n",
      " & 0.2 & 0.33 & 0.27 & 0.21 & 0.15 & 0.09 & 0.03 & -0.03 & -0.08 & -0.14 & -0.19 & -0.24 & -0.29 & -0.34 & -0.38 & -0.43 & -0.47 & -0.51 & -0.54 & -0.58 & -0.61\\\\ \n",
      " & 0.66 & 0.67 & 0.55 & 0.42 & 0.3 & 0.18 & 0.06 & -0.06 & -0.17 & -0.28 & -0.39 & -0.5 & -0.6 & -0.7 & -0.8 & -0.89 & -0.98 & -1.06 & -1.15 & -1.22 & -1.3\\\\ \n",
      " & 1.13 & 0.75 & 0.61 & 0.47 & 0.34 & 0.2 & 0.07 & -0.06 & -0.19 & -0.32 & -0.45 & -0.57 & -0.7 & -0.82 & -0.93 & -1.05 & -1.16 & -1.26 & -1.37 & -1.47 & -1.56\\\\ \n",
      " & 1.59 & 0.66 & 0.54 & 0.42 & 0.3 & 0.18 & 0.06 & -0.06 & -0.18 & -0.3 & -0.41 & -0.53 & -0.65 & -0.76 & -0.88 & -0.99 & -1.1 & -1.21 & -1.32 & -1.42 & -1.52\\\\ \n",
      " & 2.05 & 0.53 & 0.44 & 0.34 & 0.25 & 0.15 & 0.05 & -0.05 & -0.15 & -0.25 & -0.35 & -0.45 & -0.55 & -0.65 & -0.75 & -0.85 & -0.95 & -1.05 & -1.14 & -1.24 & -1.34\\\\ \n",
      " & 2.52 & 0.42 & 0.34 & 0.27 & 0.19 & 0.12 & 0.04 & -0.04 & -0.12 & -0.2 & -0.28 & -0.36 & -0.44 & -0.53 & -0.61 & -0.69 & -0.78 & -0.86 & -0.95 & -1.03 & -1.12\\\\ \n",
      " & 2.98 & 0.32 & 0.27 & 0.21 & 0.15 & 0.09 & 0.03 & -0.03 & -0.09 & -0.16 & -0.22 & -0.29 & -0.35 & -0.42 & -0.49 & -0.56 & -0.63 & -0.7 & -0.77 & -0.85 & -0.92\\\\ \n",
      " & 3.44 & 0.25 & 0.21 & 0.16 & 0.12 & 0.07 & 0.02 & -0.02 & -0.07 & -0.12 & -0.18 & -0.23 & -0.28 & -0.34 & -0.39 & -0.45 & -0.51 & -0.57 & -0.63 & -0.69 & -0.75\\\\ \n",
      " & 3.91 & 0.2 & 0.17 & 0.13 & 0.09 & 0.06 & 0.02 & -0.02 & -0.06 & -0.1 & -0.14 & -0.18 & -0.23 & -0.27 & -0.32 & -0.37 & -0.41 & -0.46 & -0.51 & -0.56 & -0.62\\\\ \n",
      " & 4.37 & 0.16 & 0.13 & 0.1 & 0.08 & 0.05 & 0.02 & -0.02 & -0.05 & -0.08 & -0.11 & -0.15 & -0.19 & -0.22 & -0.26 & -0.3 & -0.34 & -0.38 & -0.42 & -0.46 & -0.51\\\\ \n",
      "n & 4.83 & 0.13 & 0.11 & 0.09 & 0.06 & 0.04 & 0.01 & -0.01 & -0.04 & -0.07 & -0.09 & -0.12 & -0.15 & -0.18 & -0.21 & -0.25 & -0.28 & -0.31 & -0.35 & -0.38 & -0.42\\\\ \n",
      " & 5.29 & 0.11 & 0.09 & 0.07 & 0.05 & 0.03 & 0.01 & -0.01 & -0.03 & -0.05 & -0.08 & -0.1 & -0.13 & -0.15 & -0.18 & -0.2 & -0.23 & -0.26 & -0.29 & -0.32 & -0.35\\\\ \n",
      " & 5.76 & 0.09 & 0.07 & 0.06 & 0.04 & 0.03 & 0.01 & -0.01 & -0.03 & -0.05 & -0.06 & -0.08 & -0.1 & -0.13 & -0.15 & -0.17 & -0.19 & -0.22 & -0.24 & -0.27 & -0.29\\\\ \n",
      " & 6.22 & 0.07 & 0.06 & 0.05 & 0.04 & 0.02 & 0.01 & -0.01 & -0.02 & -0.04 & -0.05 & -0.07 & -0.09 & -0.11 & -0.12 & -0.14 & -0.16 & -0.18 & -0.2 & -0.23 & -0.24\\\\ \n",
      " & 6.68 & 0.06 & 0.05 & 0.04 & 0.03 & 0.02 & 0.01 & -0.01 & -0.02 & -0.03 & -0.05 & -0.06 & -0.07 & -0.09 & -0.1 & -0.12 & -0.14 & -0.15 & -0.17 & -0.19 & -0.21\\\\ \n",
      " & 7.15 & 0.06 & 0.04 & 0.03 & 0.02 & 0.02 & 0.01 & -0.01 & -0.02 & -0.03 & -0.04 & -0.05 & -0.06 & -0.07 & -0.09 & -0.1 & -0.11 & -0.13 & -0.15 & -0.16 & -0.18\\\\ \n",
      " & 7.61 & 0.05 & 0.04 & 0.03 & 0.02 & 0.01 & 0.0 & -0.0 & -0.01 & -0.02 & -0.03 & -0.04 & -0.05 & -0.06 & -0.07 & -0.09 & -0.09 & -0.1 & -0.13 & -0.14 & -0.14\\\\ \n",
      " & 8.07 & 0.05 & 0.03 & 0.03 & 0.02 & 0.01 & 0.0 & -0.0 & -0.01 & -0.02 & -0.03 & -0.04 & -0.05 & -0.05 & -0.06 & -0.08 & -0.08 & -0.09 & -0.11 & -0.12 & -0.13\\\\ \n",
      " & 8.54 & 0.04 & 0.03 & 0.02 & 0.02 & 0.01 & 0.0 & -0.0 & -0.01 & -0.02 & -0.02 & -0.03 & -0.04 & -0.04 & -0.05 & -0.07 & -0.06 & -0.07 & -0.1 & -0.11 & -0.12\\\\ \n",
      " & 9.0 & 0.04 & 0.02 & 0.02 & 0.01 & 0.01 & 0.0 & -0.0 & -0.01 & -0.01 & -0.02 & -0.03 & -0.04 & -0.03 & -0.04 & -0.06 & -0.05 & -0.06 & -0.08 & -0.09 & -0.1\\\\ \n",
      "\\end{array}\n",
      "$ \\\\ \n"
     ]
    }
   ],
   "source": [
    "print('0.25 & $')\n",
    "SigmaNumeric.K_LaTeX_markup()\n",
    "print(\"$ & $\")\n",
    "SigmaNumeric.L_LaTeX_markup()\n",
    "print(\"$ & $\")\n",
    "SigmaNumeric.M_LaTeX_markup()\n",
    "print(\"$ \\\\\\ \")"
   ]
  },
  {
   "cell_type": "code",
   "execution_count": null,
   "metadata": {},
   "outputs": [],
   "source": []
  }
 ],
 "metadata": {
  "kernelspec": {
   "display_name": "Python 3",
   "language": "python",
   "name": "python3"
  },
  "language_info": {
   "codemirror_mode": {
    "name": "ipython",
    "version": 3
   },
   "file_extension": ".py",
   "mimetype": "text/x-python",
   "name": "python",
   "nbconvert_exporter": "python",
   "pygments_lexer": "ipython3",
   "version": "3.8.5"
  }
 },
 "nbformat": 4,
 "nbformat_minor": 4
}
