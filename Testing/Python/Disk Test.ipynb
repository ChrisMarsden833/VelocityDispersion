{
 "cells": [
  {
   "cell_type": "code",
   "execution_count": 1,
   "metadata": {},
   "outputs": [],
   "source": [
    "import numpy as np\n",
    "import pandas as pd\n",
    "import matplotlib.pyplot as plt\n",
    "from VelocityDispersionLibrary import Sigma\n",
    "from tqdm.notebook import tqdm\n",
    "import sys\n",
    "sys.path.insert(1, \"/Users/chris/Documents/PhD/ProjectSigma/GalaxyTools\")\n",
    "sys.path.insert(1, \"/Users/chris/Documents/PhD/EuclidAGN\")\n",
    "import AGNCatalogToolbox\n",
    "from AGNCatalogToolbox.main import stellar_mass_to_black_hole_mass\n",
    "from darkmatter import getC\n",
    "from SDSSExtractor import Assign_Size, AssignSersicIndex\n",
    "from Utility import binnedMean\n",
    "import scipy.io as sio\n",
    "import scipy.stats as stats\n",
    "from HM2SM import stellar_mass_to_halo_mass\n",
    "from colossus.cosmology import cosmology\n",
    "cosmo = cosmology.setCosmology('planck18')"
   ]
  },
  {
   "cell_type": "code",
   "execution_count": 14,
   "metadata": {},
   "outputs": [
    {
     "name": "stdout",
     "output_type": "stream",
     "text": [
      "[1, 0, 0]\n",
      "[  1.684781    3.1692157   4.5625525   5.8964005   7.182273    8.430115\n",
      "   9.644256   10.829826   11.989029   13.125089   14.239301   15.3334\n",
      "  16.40932    17.468187   18.51015    19.536251   20.548111   21.545723\n",
      "  22.530113   23.501284   24.46042    25.40747    26.343472   27.26808\n",
      "  28.182245   29.08588    29.979607   30.863548   31.73825    32.603535\n",
      "  33.460087   34.30764    35.14686    35.977715   36.800488   37.615334\n",
      "  38.42256    39.221947   40.014084   40.79883    41.576523   42.347164\n",
      "  43.11089    43.867947   44.618267   45.36223    46.099625   46.830936\n",
      "  47.555927   48.27497    48.98785    49.694942   50.396244   51.091805\n",
      "  51.7818     52.46614    53.14511    53.81862    54.48693    55.14992\n",
      "  55.80771    56.460506   57.10815    57.75093    58.388725   59.02174\n",
      "  59.649963   60.27347    60.89232    61.50649    62.11622    62.72129\n",
      "  63.32202    63.918346   64.5103     65.09799    65.68139    66.2606\n",
      "  66.83559    67.406586   67.97346    68.536285   69.09514    69.65003\n",
      "  70.20103    70.74813    71.291504   71.83098    72.36675    72.89882\n",
      "  73.42724    73.95193    74.47308    74.99067    75.504654   76.01517\n",
      "  76.522194   77.02578    77.525986   78.0228     78.51623    79.00636\n",
      "  79.49325    79.97681    80.45717    80.93429    81.40826    81.87915\n",
      "  82.34679    82.811455   83.27296    83.73149    84.186966   84.63945\n",
      "  85.08891    85.53553    85.979164   86.41995    86.85782    87.29285\n",
      "  87.72507    88.154465   88.58108    89.004944   89.4261     89.84449\n",
      "  90.26023    90.673256   91.083626   91.49135    91.896515   92.299034\n",
      "  92.69903    93.096436   93.49133    93.88365    94.273544   94.6609\n",
      "  95.045845   95.42829    95.80838    96.18599    96.561264   96.93414\n",
      "  97.30467    97.67285    98.038704   98.4023     98.76355    99.122536\n",
      "  99.479294   99.833824  100.18609   100.536156  100.88402   101.22972\n",
      " 101.57325   101.91463   102.253876  102.590996  102.926025  103.25899\n",
      " 103.58982   103.918625  104.245384  104.57012   104.89279   105.21349\n",
      " 105.5322    105.84891   106.16368   106.47648   106.787315  107.096275\n",
      " 107.4033    107.708405  108.011635  108.31299   108.61249   108.9101\n",
      " 109.20591   109.49986   109.79203   110.082344  110.37095   110.6577\n",
      " 110.94272   111.22595   111.507454  111.78721   112.06526   112.341576\n",
      " 112.61621   112.88914   113.16038   113.42997   113.69788   113.96416\n",
      " 114.22879   114.49182  ]\n"
     ]
    }
   ],
   "source": [
    "aperture = np.arange(0.01, 2.01, 0.01)\n",
    "\n",
    "Mstar = np.log10(4.6e10)\n",
    "\n",
    "# Modelling sigma\n",
    "sigma = Sigma(aperture,\n",
    "              0., \n",
    "              0., \n",
    "              0.,\n",
    "              0., \n",
    "              0., \n",
    "              DM = None, \n",
    "              HaloMass=12,\n",
    "              haloC=0,\n",
    "              BlackHole=False, \n",
    "              disk_mass = Mstar,\n",
    "              disk_inclination = 90, \n",
    "              disk_scale_length = 2.01)\n",
    "              \n",
    "print(sigma)"
   ]
  },
  {
   "cell_type": "code",
   "execution_count": 15,
   "metadata": {},
   "outputs": [
    {
     "data": {
      "image/png": "[encoded data removed]",
      "text/plain": [
       "<Figure size 432x288 with 1 Axes>"
      ]
     },
     "metadata": {
      "needs_background": "light"
     },
     "output_type": "display_data"
    }
   ],
   "source": [
    "plt.figure()\n",
    "plt.plot(aperture/2.01, sigma)\n",
    "plt.xlim([0, 1])\n",
    "plt.show()"
   ]
  },
  {
   "cell_type": "code",
   "execution_count": null,
   "metadata": {},
   "outputs": [],
   "source": []
  }
 ],
 "metadata": {
  "kernelspec": {
   "display_name": "Python 3",
   "language": "python",
   "name": "python3"
  },
  "language_info": {
   "codemirror_mode": {
    "name": "ipython",
    "version": 3
   },
   "file_extension": ".py",
   "mimetype": "text/x-python",
   "name": "python",
   "nbconvert_exporter": "python",
   "pygments_lexer": "ipython3",
   "version": "3.7.6"
  }
 },
 "nbformat": 4,
 "nbformat_minor": 4
}
