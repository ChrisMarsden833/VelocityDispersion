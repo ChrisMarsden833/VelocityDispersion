{
 "cells": [
  {
   "cell_type": "code",
   "execution_count": 1,
   "metadata": {},
   "outputs": [],
   "source": [
    "import numpy as np\n",
    "from matplotlib import pyplot as plt\n",
    "import sys\n",
    "sys.path.insert(1, '/Users/chris/Documents/PhD/ProjectSigma/GalaxyTools')\n",
    "\n",
    "from HM2SM import halo_mass_to_stellar_mass\n",
    "from VelocityDispersionLibrary import FullVelocityDispersion, SigmaLOS\n",
    "from Bernardi import bernardi_sigma "
   ]
  },
  {
   "cell_type": "code",
   "execution_count": 2,
   "metadata": {},
   "outputs": [],
   "source": [
    "# Params\n",
    "\n",
    "SM = 11.086\n",
    "size = 3.2\n",
    "n = 3.12\n"
   ]
  },
  {
   "cell_type": "code",
   "execution_count": 3,
   "metadata": {
    "scrolled": false
   },
   "outputs": [
    {
     "name": "stdout",
     "output_type": "stream",
     "text": [
      "[163.90904   166.7054    168.43137   ...   5.495516    5.4949813\n",
      "   5.494441 ]\n"
     ]
    }
   ],
   "source": [
    "length = 10000\n",
    "R_range = np.linspace(0.1, 100*size, length)\n",
    "\n",
    "beta = np.ones_like(R_range) * 0.00001\n",
    "r_array = np.ones_like(R_range) * size\n",
    "sm_array = np.ones_like(R_range) * SM\n",
    "n_array = np.ones_like(R_range) * n\n",
    "\n",
    "Sigma = SigmaLOS(R_range, beta, r_array, n_array, sm_array, 0, DM = None,\n",
    "                                   HaloMass = None, cpath = \"/Users/chris/Documents/PhD/ProjectSigma/data/cM_planck18.txt\" )\n",
    "    \n",
    "print(Sigma)"
   ]
  },
  {
   "cell_type": "code",
   "execution_count": 4,
   "metadata": {},
   "outputs": [],
   "source": [
    "ml_data = np.array([[0.009679694294234332, 153.10737601415732],\n",
    "                    [0.013708594188178182, 158.62584248998587],\n",
    "                    [0.03604956803370076, 170.3819991196854],\n",
    "                    [0.05307117724917137, 175.52686906174708],\n",
    "                    [0.07093906917639736, 176.66831753246942],\n",
    "                    [0.10245307293254426, 177.85159808682445],\n",
    "                    [0.13696000684505572, 176.95911752211418],\n",
    "                    [0.2645142711670314, 170.25018095773274],\n",
    "                    [0.39728764628542657, 161.81889159486],\n",
    "                    [0.5111101752165439, 154.6332008595906],\n",
    "                    [0.7531705715205965, 141.9788626271365],\n",
    "                    [0.9504310848313833, 134.8889148864712],\n",
    "                    [1.347715172589424, 120.32488484563908],\n",
    "                    [1.7011023590169403, 111.07294463923726],\n",
    "                    [2.41263689229889, 96.82504095019962],\n",
    "                    [2.9871919119714487, 88.35265757015758],\n",
    "                    [4.075850751390216, 77.01175226596543],\n",
    "                    [4.9507418367266744, 68.67017199031419],\n",
    "                    [6.756961988727342, 57.823694730917424],\n",
    "                    [8.700397307336434, 49.81731390355608],\n",
    "                    [11.201719126131708, 43.416486107043006],\n",
    "                    [16.852949141065665, 33.73635431528367],\n",
    "                    [26.36583772367767, 25.037102272453254],\n",
    "                    [47.26782950775688, 16.95188016279471],\n",
    "                    [95.22718587930748, 10.71465919405304],\n",
    "                    [199.4557872070057, 6.618827703956817]])\n"
   ]
  },
  {
   "cell_type": "code",
   "execution_count": 9,
   "metadata": {},
   "outputs": [
    {
     "data": {
      "image/png": "[encoded data removed]",
      "text/plain": [
       "<Figure size 432x288 with 1 Axes>"
      ]
     },
     "metadata": {
      "needs_background": "light"
     },
     "output_type": "display_data"
    }
   ],
   "source": [
    "plt.figure()\n",
    "plt.plot(R_range/size, Sigma, 'x')\n",
    "plt.plot(ml_data[:,0], ml_data[:,1], label = \"Mamon/Lokas\")\n",
    "plt.loglog()\n",
    "plt.legend()\n",
    "plt.ylim([5, 250])\n",
    "plt.xlim([0.01, 150])\n",
    "plt.show()"
   ]
  },
  {
   "cell_type": "code",
   "execution_count": null,
   "metadata": {},
   "outputs": [],
   "source": []
  }
 ],
 "metadata": {
  "kernelspec": {
   "display_name": "Python 3",
   "language": "python",
   "name": "python3"
  },
  "language_info": {
   "codemirror_mode": {
    "name": "ipython",
    "version": 3
   },
   "file_extension": ".py",
   "mimetype": "text/x-python",
   "name": "python",
   "nbconvert_exporter": "python",
   "pygments_lexer": "ipython3",
   "version": "3.7.6"
  }
 },
 "nbformat": 4,
 "nbformat_minor": 4
}
