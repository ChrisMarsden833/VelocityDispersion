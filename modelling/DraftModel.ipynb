{
 "cells": [
  {
   "cell_type": "code",
   "execution_count": 1,
   "metadata": {},
   "outputs": [],
   "source": [
    "import numpy as np\n",
    "import sys\n",
    "from matplotlib import pyplot as plt\n",
    "import pandas as pd\n",
    "from scipy import stats\n",
    "from scipy import interpolate\n",
    "\n",
    "sys.path.insert(1, '/mnt/Files/EuclidAGN/')\n",
    "sys.path.insert(1, '../lib/')\n",
    "from AGNCatalogToolbox import main as AGN\n",
    "from VelocityDispersionLibrary import FullVelocityDispersion"
   ]
  },
  {
   "cell_type": "code",
   "execution_count": 2,
   "metadata": {},
   "outputs": [
    {
     "name": "stdout",
     "output_type": "stream",
     "text": [
      "Original Length:  141476598 /8 = 17684574.75\n",
      "New Length:  112865\n"
     ]
    }
   ],
   "source": [
    "# Dark Matter\n",
    "data_path = \"/mnt/Files/Astronomy/MultiDark/npy_files/MD_0.987.npy\"\n",
    "data = np.load(data_path)\n",
    "\n",
    "cut = 100\n",
    "\n",
    "print(\"Original Length: \", len(data), \"/8 =\", len(data)/8)\n",
    "\n",
    "data = data[(data['x'] < cut) * (data['y'] < cut) * (data['z'] < cut)]\n",
    "\n",
    "print(\"New Length: \", len(data))\n",
    "\n",
    "\n",
    "\n",
    "#length = int(np.floor(len(data)/2))\n",
    "\n",
    "#print(length)\n",
    "\n",
    "#data = data[:length]"
   ]
  },
  {
   "cell_type": "code",
   "execution_count": 3,
   "metadata": {},
   "outputs": [
    {
     "name": "stderr",
     "output_type": "stream",
     "text": [
      "/home/chris/anaconda3/lib/python3.7/site-packages/ipykernel_launcher.py:40: RuntimeWarning: invalid value encountered in true_divide\n",
      "/home/chris/anaconda3/lib/python3.7/site-packages/ipykernel_launcher.py:50: RuntimeWarning: divide by zero encountered in true_divide\n",
      "/home/chris/anaconda3/lib/python3.7/site-packages/ipykernel_launcher.py:50: RuntimeWarning: invalid value encountered in multiply\n",
      "/home/chris/anaconda3/lib/python3.7/site-packages/ipykernel_launcher.py:50: RuntimeWarning: invalid value encountered in true_divide\n"
     ]
    }
   ],
   "source": [
    "# SDSS\n",
    "df = pd.read_csv(\"/mnt/Files/Astronomy/SDSS/Catalog_SDSS_complete.dat\", sep = ' ')\n",
    "\n",
    "# Grab useful fields\n",
    "SersicIndex = np.array(df['n_bulge'])\n",
    "StellarMass = np.array(df['MsCent'])\n",
    "VMax = np.array(df[\"Vmaxwt\"])\n",
    "Re = np.array(df[\"logReSerExp\"])\n",
    "\n",
    "\n",
    "# Create flags to remove offending galaxies\n",
    "flag_central = df[\"NewLCentSat\"] == 1. # Only centrals\n",
    "flag_hasMass = StellarMass != -999. # Only valid stellar masses\n",
    "flag_is8 = SersicIndex != 8. # Cap\n",
    "flag_is0 = SersicIndex != 0.1\n",
    "flag_morph = np.array(df[\"TType\"]) < 0.\n",
    "flag_combined = flag_hasMass & flag_is8 & flag_is0 & flag_central & flag_morph\n",
    "\n",
    "df = None\n",
    "flag_central = None\n",
    "flag_hasMass = None\n",
    "flag_is8 = None\n",
    "flag_is0 = None\n",
    "flag_morph = None\n",
    "\n",
    "\n",
    "# Remove galaxies\n",
    "StellarMass = StellarMass[flag_combined]\n",
    "SersicIndex = SersicIndex[flag_combined]\n",
    "Size = 10**Re[flag_combined]\n",
    "VMax = VMax[flag_combined]\n",
    "\n",
    "\n",
    "# Bin by sm\n",
    "bins = np.arange(0., 30.0, 0.05)\n",
    "\n",
    "# Weighted average by VMax\n",
    "array, edges, numbers = stats.binned_statistic(StellarMass, VMax*Size, statistic = 'sum', bins = bins)\n",
    "den = stats.binned_statistic(StellarMass, VMax, statistic = 'sum', bins = bins)[0]\n",
    "array = array/den # Calculate the numerator and denominator separately, to make the best use of binned statistic\n",
    "\n",
    "# For the purposes of the error, we need to do some housekeeping here\n",
    "means = np.zeros(len(numbers)) # Storage array for the means - the value of the mean at each element\n",
    "for i in range(len(means)):\n",
    "    means[i] = array[numbers[i]-1] # There probably is a faster way to do this\n",
    "# Calculate the components needed for the standard deviation\n",
    "std_wrong = stats.binned_statistic(StellarMass, VMax*(Size - means)**2, statistic = 'sum', bins = bins)[0]\n",
    "binCounts = stats.binned_statistic(StellarMass, means, statistic = 'count', bins = bins)[0]\n",
    "# Calculate the standard deviation\n",
    "dev = np.sqrt(std_wrong/(((binCounts-1)/binCounts)*den))\n",
    "\n",
    "get_Size = interpolate.interp1d(bins[0:-1], array)\n",
    "get_size_Error = interpolate.interp1d(bins[0:-1], dev)\n"
   ]
  },
  {
   "cell_type": "code",
   "execution_count": 4,
   "metadata": {},
   "outputs": [
    {
     "name": "stdout",
     "output_type": "stream",
     "text": [
      "Scatter is a thing, valued at 0.11\n"
     ]
    }
   ],
   "source": [
    "sm = AGN.halo_mass_to_stellar_mass(np.log10(data['mvir']/0.69), 0.0)\n",
    "\n",
    "data = None"
   ]
  },
  {
   "cell_type": "code",
   "execution_count": 5,
   "metadata": {},
   "outputs": [],
   "source": [
    "def sizes_ric_nat(sm):\n",
    "    return (10**-0.314) * ((10*sm)*0.042) * (1 + (10**sm)/(10**10.537))**0.76\n",
    "\n",
    "def sizes_FS(sm):\n",
    "    return 0.1 * ((10**sm)**0.14) * ((1 + (10**sm)/(3.98e10))) ** (0.39-0.14)\n"
   ]
  },
  {
   "cell_type": "code",
   "execution_count": 6,
   "metadata": {},
   "outputs": [
    {
     "data": {
      "image/png": "[encoded data removed]",
      "text/plain": [
       "<Figure size 432x288 with 1 Axes>"
      ]
     },
     "metadata": {
      "needs_background": "light"
     },
     "output_type": "display_data"
    }
   ],
   "source": [
    "plt.figure()\n",
    "sm_range = np.linspace(9, 12)\n",
    "plt.plot(sm_range, sizes_ric_nat(sm_range), label = \"Ric&Nat\")\n",
    "plt.plot(sm_range, sizes_FS(sm_range), label = \"FS\")\n",
    "plt.plot(sm_range, get_Size(sm_range), label = \"SDSS\" )\n",
    "plt.xlabel(\"Stellar Mass [$log_{10}$ $M_{\\odot}$]\")\n",
    "plt.ylabel(\"Radius [$kpc$]\")\n",
    "plt.legend()\n",
    "plt.show()\n"
   ]
  },
  {
   "cell_type": "code",
   "execution_count": 7,
   "metadata": {},
   "outputs": [
    {
     "name": "stderr",
     "output_type": "stream",
     "text": [
      "/home/chris/anaconda3/lib/python3.7/site-packages/ipykernel_launcher.py:6: RuntimeWarning: invalid value encountered in true_divide\n",
      "  \n",
      "/home/chris/anaconda3/lib/python3.7/site-packages/ipykernel_launcher.py:16: RuntimeWarning: divide by zero encountered in true_divide\n",
      "  app.launch_new_instance()\n",
      "/home/chris/anaconda3/lib/python3.7/site-packages/ipykernel_launcher.py:16: RuntimeWarning: invalid value encountered in multiply\n",
      "  app.launch_new_instance()\n",
      "/home/chris/anaconda3/lib/python3.7/site-packages/ipykernel_launcher.py:16: RuntimeWarning: invalid value encountered in true_divide\n",
      "  app.launch_new_instance()\n"
     ]
    }
   ],
   "source": [
    "\n",
    "# Bin up the SDSS\n",
    "bins = np.arange(0.0, 30.0, 0.05)\n",
    "# Weighted average by VMax\n",
    "array, edges, numbers = stats.binned_statistic(StellarMass, VMax*SersicIndex, statistic = 'sum', bins = bins)\n",
    "den = stats.binned_statistic(StellarMass, VMax, statistic = 'sum', bins = bins)[0]\n",
    "array = array/den # Calculate the numerator and denominator separately, to make the best use of binned statistic\n",
    "\n",
    "# For the purposes of the error, we need to do some housekeeping here\n",
    "means = np.zeros(len(numbers)) # Storage array for the means - the value of the mean at each element\n",
    "for i in range(len(means)):\n",
    "    means[i] = array[numbers[i]-1] # There probably is a faster way to do this\n",
    "# Calculate the components needed for the standard deviation\n",
    "std_wrong = stats.binned_statistic(StellarMass, VMax*(SersicIndex - means)**2, statistic = 'sum', bins = bins)[0]\n",
    "binCounts = stats.binned_statistic(StellarMass, means, statistic = 'count', bins = bins)[0]\n",
    "# Calculate the standard deviation\n",
    "dev = np.sqrt(std_wrong/(((binCounts-1)/binCounts)*den))\n",
    "\n",
    "get_SersicIndex = interpolate.interp1d(bins[0:-1], array)\n",
    "\n",
    "get_Error = interpolate.interp1d(bins[0:-1], dev)\n"
   ]
  },
  {
   "cell_type": "code",
   "execution_count": 8,
   "metadata": {},
   "outputs": [],
   "source": [
    "sm_range = np.linspace(0, 12)\n",
    "n_test = get_SersicIndex(sm_range)\n",
    "n_error = get_Error(sm_range)"
   ]
  },
  {
   "cell_type": "code",
   "execution_count": 9,
   "metadata": {
    "scrolled": true
   },
   "outputs": [
    {
     "data": {
      "image/png": "[encoded data removed]",
      "text/plain": [
       "<Figure size 432x288 with 1 Axes>"
      ]
     },
     "metadata": {
      "needs_background": "light"
     },
     "output_type": "display_data"
    }
   ],
   "source": [
    "plt.figure()\n",
    "plt.plot(sm_range, n_test, color = 'b')\n",
    "plt.plot(sm_range, n_test + n_error, color = 'b', alpha = 0.4)\n",
    "plt.plot(sm_range, n_test - n_error, color = 'b', alpha = 0.4)\n",
    "plt.xlabel(\"Stellar Mass [$log_{10}$]\" )\n",
    "plt.show()"
   ]
  },
  {
   "cell_type": "code",
   "execution_count": null,
   "metadata": {},
   "outputs": [
    {
     "name": "stdout",
     "output_type": "stream",
     "text": [
      "112865\n",
      "Reserving Memory\n",
      "Reserving restypes\n",
      "Arrays defined, entering c section\n"
     ]
    }
   ],
   "source": [
    "stellarMasses = sm\n",
    "sm = None\n",
    "sizes = sizes_ric_nat(stellarMasses)\n",
    "\n",
    "print(len(stellarMasses))\n",
    "\n",
    "sersicIndexes = get_SersicIndex(stellarMasses)\n",
    "sersicIndexes[stellarMasses < 9] = 2.0\n",
    "\n",
    "Aperture = np.ones_like(stellarMasses) * 0.5\n",
    "Beta = np.random.normal(0.15, 0.12, size=len(stellarMasses))\n",
    "HaloRs = 20 * sizes\n",
    "HaloC = np.ones_like(stellarMasses) * 15\n",
    "om = 0.27\n",
    "H = 67.66\n",
    "\n",
    "VD = FullVelocityDispersion(Aperture, Beta, sizes, sersicIndexes, 10**stellarMasses, HaloRs, HaloC, om, H)"
   ]
  },
  {
   "cell_type": "code",
   "execution_count": null,
   "metadata": {},
   "outputs": [],
   "source": []
  }
 ],
 "metadata": {
  "kernelspec": {
   "display_name": "Python 3",
   "language": "python",
   "name": "python3"
  },
  "language_info": {
   "codemirror_mode": {
    "name": "ipython",
    "version": 3
   },
   "file_extension": ".py",
   "mimetype": "text/x-python",
   "name": "python",
   "nbconvert_exporter": "python",
   "pygments_lexer": "ipython3",
   "version": "3.7.6"
  }
 },
 "nbformat": 4,
 "nbformat_minor": 4
}
